{
  "nbformat": 4,
  "nbformat_minor": 0,
  "metadata": {
    "colab": {
      "name": "Entropic regularized Optimal transport.ipynb",
      "provenance": [],
      "toc_visible": true,
      "mount_file_id": "1RQO-vqaJcCW3RkvbTE_z5JBdinvkwUB-",
      "authorship_tag": "ABX9TyNzwCyT+C0M+4xg38t0w+0Q",
      "include_colab_link": true
    },
    "kernelspec": {
      "name": "python3",
      "display_name": "Python 3"
    }
  },
  "cells": [
    {
      "cell_type": "markdown",
      "metadata": {
        "id": "view-in-github",
        "colab_type": "text"
      },
      "source": [
        "<a href=\"https://colab.research.google.com/github/luchi1714/Domain_Adaptation/blob/main/Entropic_regularized_Optimal_transport.ipynb\" target=\"_parent\"><img src=\"https://colab.research.google.com/assets/colab-badge.svg\" alt=\"Open In Colab\"/></a>"
      ]
    },
    {
      "cell_type": "code",
      "metadata": {
        "id": "sdJiF7zdn0qP",
        "outputId": "0270ebe4-c5b0-497e-cbfb-8564cbce48f1",
        "colab": {
          "base_uri": "https://localhost:8080/"
        }
      },
      "source": [
        "pip install Pot"
      ],
      "execution_count": 8,
      "outputs": [
        {
          "output_type": "stream",
          "text": [
            "Requirement already satisfied: Pot in /usr/local/lib/python3.6/dist-packages (0.7.0)\n",
            "Requirement already satisfied: cython>=0.23 in /usr/local/lib/python3.6/dist-packages (from Pot) (0.29.21)\n",
            "Requirement already satisfied: numpy>=1.16 in /usr/local/lib/python3.6/dist-packages (from Pot) (1.18.5)\n",
            "Requirement already satisfied: scipy>=1.0 in /usr/local/lib/python3.6/dist-packages (from Pot) (1.4.1)\n"
          ],
          "name": "stdout"
        }
      ]
    },
    {
      "cell_type": "markdown",
      "metadata": {
        "id": "Zm8Q7cejn3zu"
      },
      "source": [
        "## Entropic regularized Optimal transport"
      ]
    },
    {
      "cell_type": "code",
      "metadata": {
        "id": "n2F1w86qn9Sz"
      },
      "source": [
        "import scipy.io as sio\n",
        "from sklearn.preprocessing import StandardScaler\n",
        "from sklearn.decomposition import PCA\n",
        "import numpy as np\n",
        "from numpy import random\n",
        "import scipy\n",
        "from sklearn.preprocessing import normalize\n",
        "import  ot \n",
        "from sklearn.neighbors import KNeighborsClassifier\n"
      ],
      "execution_count": 9,
      "outputs": []
    },
    {
      "cell_type": "code",
      "metadata": {
        "id": "J3zjNHSER5-p"
      },
      "source": [
        "\n",
        "\n",
        "\n",
        "dataS = sio.loadmat(\"/content/drive/My Drive/ML/lab data/dslr.mat\")\n",
        "dataT = sio.loadmat(\"/content/drive/My Drive/ML/lab data/webcam.mat\")"
      ],
      "execution_count": 10,
      "outputs": []
    },
    {
      "cell_type": "code",
      "metadata": {
        "id": "uavUFhvzoGjM"
      },
      "source": [
        "def Entropic_regularized_Optimal_transport(dataS,dataT, reg_e):\n",
        "    \n",
        "\n",
        "    S = dataS[\"fts\"]\n",
        "    T = dataT[\"fts\"]\n",
        "    Ls = dataS[\"labels\"]\n",
        "    Tl = dataT[\"labels\"]\n",
        "    \n",
        "    \n",
        "    scaler = StandardScaler()\n",
        "    S = scaler.fit_transform(S)\n",
        "    T = scaler.fit_transform(T)\n",
        "    \n",
        "    \n",
        "    \n",
        "    a = np.zeros((0,S.shape[0] ))\n",
        "    b = np.zeros((0,T.shape[0] ))\n",
        "    \n",
        "    M = scipy.spatial.distance.cdist(S, T)\n",
        "    M = normalize(M, norm = \"max\")\n",
        "    \n",
        "    G = ot.sinkhorn(a, b, M, reg= 1)\n",
        "    \n",
        "    Sa = np.dot(G,T)\n",
        "    nn = KNeighborsClassifier(n_neighbors=1).fit(Sa, Ls)\n",
        "    \n",
        "    #print(nn.predict(T))\n",
        "    \n",
        "    \n",
        "    \n",
        "    \n",
        "    #Checking performance on the training set\n",
        "    print('Accuracy of K-NN classifier on training set: {:.2f}'.format(nn.score(S, Ls)))\n",
        "    #Checking performance on the test set\n",
        "    print('Accuracy of K-NN classifier on test set: {:.2f}'.format(nn.score(T, Tl)))\n",
        "    \n"
      ],
      "execution_count": 11,
      "outputs": []
    },
    {
      "cell_type": "code",
      "metadata": {
        "id": "-nC90fD8oULL",
        "outputId": "08772fea-993d-4a2a-c07b-2d50a2fc2375",
        "colab": {
          "base_uri": "https://localhost:8080/"
        }
      },
      "source": [
        "\n",
        "\n",
        "Entropic_regularized_Optimal_transport(dataS,dataT, 1)\n"
      ],
      "execution_count": 12,
      "outputs": [
        {
          "output_type": "stream",
          "text": [
            "/usr/local/lib/python3.6/dist-packages/ipykernel_launcher.py:25: DataConversionWarning: A column-vector y was passed when a 1d array was expected. Please change the shape of y to (n_samples, ), for example using ravel().\n"
          ],
          "name": "stderr"
        },
        {
          "output_type": "stream",
          "text": [
            "[ 8  8  8  8  8  8  8  8  8  8  8  8  8  8  8  8  8  8  1  1  1  1  1  8\n",
            "  8  1  1  1  1  2  2  2  2  2  2  2  2  2  1  2  2  2  2  2  2  2  2  2\n",
            "  2  2  2  3  3  3  3  3  3  3  3  3  3  3  3  3  3  3  3  3  3  3  3  3\n",
            "  3  3  3  3  3  3  3  3  3  8  8  8  8  8  4  4  4  4  4  4  4  3  3  4\n",
            "  4  4  4  4  4  4  4  4  4  4  4  4  5  5  5  5  5  8  5  8  5  5  5  5\n",
            "  5  5  5  5  5  5  5  8  5  8  3  8  5  5  5  8  6  6  1  1  6  8  7  7\n",
            "  2  7 10  7  7  7  7  8  6  8  8  2  6  6  6  1  2  6  6  7  2  7  8  7\n",
            "  8  8  8  7  7  7  7  7  7  7  7  7  8  8  8  4  8  7  8  7  8  8  6  7\n",
            "  8  7  7  8  7  7  7  7  8  7  8  7  7  8  8  7  8  8  8  8  8  8  8  8\n",
            "  8  8  8  8  8  3  4  4  8  3  8  8  9  8  8  9  8  8  8  8  8  8  7  9\n",
            "  8  9  9  9  3  3  9  3  6  6  9  6  6  9  9  5  9  9  9  9  9  8  1  8\n",
            "  9  8  8 10  7  8  7  8  8  8 10 10  1 10  4 10 10  6  3  1  1  6  6  4\n",
            "  7 10  7 10  7  8 10]\n",
            "Accuracy of K-NN classifier on training set: 0.79\n",
            "Accuracy of K-NN classifier on test set: 0.61\n"
          ],
          "name": "stdout"
        }
      ]
    }
  ]
}