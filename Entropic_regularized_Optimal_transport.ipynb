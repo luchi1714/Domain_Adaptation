{
  "nbformat": 4,
  "nbformat_minor": 0,
  "metadata": {
    "colab": {
      "name": "Entropic regularized Optimal transport.ipynb",
      "provenance": [],
      "toc_visible": true,
      "mount_file_id": "1RQO-vqaJcCW3RkvbTE_z5JBdinvkwUB-",
      "authorship_tag": "ABX9TyPDJ5LP9hJiHAZMMIA9ljQP",
      "include_colab_link": true
    },
    "kernelspec": {
      "name": "python3",
      "display_name": "Python 3"
    }
  },
  "cells": [
    {
      "cell_type": "markdown",
      "metadata": {
        "id": "view-in-github",
        "colab_type": "text"
      },
      "source": [
        "<a href=\"https://colab.research.google.com/github/luchi1714/Domain_Adaptation/blob/main/Entropic_regularized_Optimal_transport.ipynb\" target=\"_parent\"><img src=\"https://colab.research.google.com/assets/colab-badge.svg\" alt=\"Open In Colab\"/></a>"
      ]
    },
    {
      "cell_type": "code",
      "metadata": {
        "id": "sdJiF7zdn0qP",
        "outputId": "e4c47b8f-d654-4ebe-b39c-f054a968f4b2",
        "colab": {
          "base_uri": "https://localhost:8080/"
        }
      },
      "source": [
        "pip install Pot"
      ],
      "execution_count": null,
      "outputs": [
        {
          "output_type": "stream",
          "text": [
            "Collecting Pot\n",
            "\u001b[?25l  Downloading https://files.pythonhosted.org/packages/f8/22/67658e4b227fc52ce1c9bca522dfb3f0cc29a3536d1c7499feb3b0042a41/POT-0.7.0-cp36-cp36m-manylinux2010_x86_64.whl (428kB)\n",
            "\r\u001b[K     |▊                               | 10kB 12.8MB/s eta 0:00:01\r\u001b[K     |█▌                              | 20kB 15.2MB/s eta 0:00:01\r\u001b[K     |██▎                             | 30kB 12.8MB/s eta 0:00:01\r\u001b[K     |███                             | 40kB 7.7MB/s eta 0:00:01\r\u001b[K     |███▉                            | 51kB 4.1MB/s eta 0:00:01\r\u001b[K     |████▋                           | 61kB 4.5MB/s eta 0:00:01\r\u001b[K     |█████▍                          | 71kB 4.9MB/s eta 0:00:01\r\u001b[K     |██████▏                         | 81kB 5.3MB/s eta 0:00:01\r\u001b[K     |██████▉                         | 92kB 5.3MB/s eta 0:00:01\r\u001b[K     |███████▋                        | 102kB 5.7MB/s eta 0:00:01\r\u001b[K     |████████▍                       | 112kB 5.7MB/s eta 0:00:01\r\u001b[K     |█████████▏                      | 122kB 5.7MB/s eta 0:00:01\r\u001b[K     |██████████                      | 133kB 5.7MB/s eta 0:00:01\r\u001b[K     |██████████▊                     | 143kB 5.7MB/s eta 0:00:01\r\u001b[K     |███████████▌                    | 153kB 5.7MB/s eta 0:00:01\r\u001b[K     |████████████▎                   | 163kB 5.7MB/s eta 0:00:01\r\u001b[K     |█████████████                   | 174kB 5.7MB/s eta 0:00:01\r\u001b[K     |█████████████▊                  | 184kB 5.7MB/s eta 0:00:01\r\u001b[K     |██████████████▌                 | 194kB 5.7MB/s eta 0:00:01\r\u001b[K     |███████████████▎                | 204kB 5.7MB/s eta 0:00:01\r\u001b[K     |████████████████                | 215kB 5.7MB/s eta 0:00:01\r\u001b[K     |████████████████▉               | 225kB 5.7MB/s eta 0:00:01\r\u001b[K     |█████████████████▋              | 235kB 5.7MB/s eta 0:00:01\r\u001b[K     |██████████████████▍             | 245kB 5.7MB/s eta 0:00:01\r\u001b[K     |███████████████████             | 256kB 5.7MB/s eta 0:00:01\r\u001b[K     |███████████████████▉            | 266kB 5.7MB/s eta 0:00:01\r\u001b[K     |████████████████████▋           | 276kB 5.7MB/s eta 0:00:01\r\u001b[K     |█████████████████████▍          | 286kB 5.7MB/s eta 0:00:01\r\u001b[K     |██████████████████████▏         | 296kB 5.7MB/s eta 0:00:01\r\u001b[K     |███████████████████████         | 307kB 5.7MB/s eta 0:00:01\r\u001b[K     |███████████████████████▊        | 317kB 5.7MB/s eta 0:00:01\r\u001b[K     |████████████████████████▌       | 327kB 5.7MB/s eta 0:00:01\r\u001b[K     |█████████████████████████▏      | 337kB 5.7MB/s eta 0:00:01\r\u001b[K     |██████████████████████████      | 348kB 5.7MB/s eta 0:00:01\r\u001b[K     |██████████████████████████▊     | 358kB 5.7MB/s eta 0:00:01\r\u001b[K     |███████████████████████████▌    | 368kB 5.7MB/s eta 0:00:01\r\u001b[K     |████████████████████████████▎   | 378kB 5.7MB/s eta 0:00:01\r\u001b[K     |█████████████████████████████   | 389kB 5.7MB/s eta 0:00:01\r\u001b[K     |█████████████████████████████▉  | 399kB 5.7MB/s eta 0:00:01\r\u001b[K     |██████████████████████████████▋ | 409kB 5.7MB/s eta 0:00:01\r\u001b[K     |███████████████████████████████▎| 419kB 5.7MB/s eta 0:00:01\r\u001b[K     |████████████████████████████████| 430kB 5.7MB/s \n",
            "\u001b[?25hRequirement already satisfied: numpy>=1.16 in /usr/local/lib/python3.6/dist-packages (from Pot) (1.18.5)\n",
            "Requirement already satisfied: scipy>=1.0 in /usr/local/lib/python3.6/dist-packages (from Pot) (1.4.1)\n",
            "Requirement already satisfied: cython>=0.23 in /usr/local/lib/python3.6/dist-packages (from Pot) (0.29.21)\n",
            "Installing collected packages: Pot\n",
            "Successfully installed Pot-0.7.0\n"
          ],
          "name": "stdout"
        }
      ]
    },
    {
      "cell_type": "markdown",
      "metadata": {
        "id": "Zm8Q7cejn3zu"
      },
      "source": [
        "## Entropic regularized Optimal transport"
      ]
    },
    {
      "cell_type": "code",
      "metadata": {
        "id": "n2F1w86qn9Sz"
      },
      "source": [
        "import scipy.io as sio\n",
        "from sklearn.preprocessing import StandardScaler\n",
        "from sklearn.decomposition import PCA\n",
        "import numpy as np\n",
        "from numpy import random\n",
        "import scipy\n",
        "from sklearn.preprocessing import normalize\n",
        "import  ot \n",
        "from sklearn.neighbors import KNeighborsClassifier\n"
      ],
      "execution_count": null,
      "outputs": []
    },
    {
      "cell_type": "code",
      "metadata": {
        "id": "uavUFhvzoGjM"
      },
      "source": [
        "def Entropic_regularized_Optimal_transport(dataS,dataT, reg_e):\n",
        "    \n",
        "\n",
        "    S = dataS[\"fts\"]\n",
        "    T = dataT[\"fts\"]\n",
        "    Ls = dataS[\"labels\"].ravel()\n",
        "    Tl = dataT[\"labels\"].ravel()\n",
        "    \n",
        "    \n",
        "    scaler = StandardScaler()\n",
        "    S = scaler.fit_transform(S)\n",
        "    T = scaler.fit_transform(T)\n",
        "    \n",
        "    \n",
        "    \n",
        "    a = np.zeros((0,S.shape[0] ))\n",
        "    b = np.zeros((0,T.shape[0] ))\n",
        "    \n",
        "    M = scipy.spatial.distance.cdist(S, T)\n",
        "    M = normalize(M, norm = \"max\")\n",
        "    \n",
        "    G = ot.sinkhorn(a, b, M, reg= 1)\n",
        "    \n",
        "    Sa = np.dot(G,T)\n",
        "    nn = KNeighborsClassifier(n_neighbors=1).fit(Sa, Ls)\n",
        "    \n",
        "    #print(nn.predict(T))\n",
        "    \n",
        "    \n",
        "    \n",
        "    \n",
        "    #Checking performance on the source set\n",
        "    print('Accuracy of K-NN classifier on Source set: {:.2f}'.format(nn.score(S, Ls)))\n",
        "    #Checking performance on the target set\n",
        "    print('Accuracy of K-NN classifier on Target set: {:.2f}'.format(nn.score(T, Tl)))\n",
        "    "
      ],
      "execution_count": null,
      "outputs": []
    },
    {
      "cell_type": "code",
      "metadata": {
        "id": "IbqUwYoUFoON"
      },
      "source": [
        " # Addition of Path \n",
        "folders = [\"surf\", \"GoogleNet1024\", \"CaffeNet4096\"]\n",
        "files = [\"webcam\", \"dslr\", \"caltech10\", \"amazon\"]\n",
        "\n",
        "directory_path = \"/content/drive/MyDrive/ML/Data_Folder\"\n"
      ],
      "execution_count": null,
      "outputs": []
    },
    {
      "cell_type": "code",
      "metadata": {
        "id": "-nC90fD8oULL",
        "outputId": "b22b2de6-afd1-4123-8584-11376b454e14",
        "colab": {
          "base_uri": "https://localhost:8080/"
        }
      },
      "source": [
        "for i in folders:\n",
        "    j = 0\n",
        "    print(\" \\t\\t\\t\\t{}                      \".format(i.capitalize()))\n",
        "    while(j < 3):\n",
        "        dataS = (directory_path+\"/{0}/{1}.mat\".format(i,files[j]))\n",
        "        j = j +1\n",
        "        dataT = (directory_path+\"/{0}/{1}.mat\".format(i,files[j]))\n",
        "        \n",
        "        \n",
        "        print(\"*\" *60)\n",
        "       \n",
        "        print(files[j-1].capitalize() +\" vs \"+files[j].capitalize()+ \" \\n\")\n",
        "        #print(dataS)\n",
        "        #print(dataT)\n",
        "        print(\"\\n\\n\")\n",
        "       \n",
        "        data_1 = sio.loadmat(\"{}\".format(dataS))\n",
        "        data_2 = sio.loadmat(\"{}\".format(dataT))\n",
        "        Entropic_regularized_Optimal_transport(data_1,data_2, 1)\n",
        "\n",
        "        #print(dataS + \"\\n\" + dataT +\"\\n\\n\")\n",
        "        j = j +1\n",
        "\n"
      ],
      "execution_count": null,
      "outputs": [
        {
          "output_type": "stream",
          "text": [
            " \t\t\t\t\t\tSurf                      \n",
            "************************************************************\n",
            "Webcam vs Dslr \n",
            "\n",
            "/content/drive/MyDrive/ML/Data_Folder/surf/webcam.mat\n",
            "/content/drive/MyDrive/ML/Data_Folder/surf/dslr.mat\n",
            "\n",
            "\n",
            "\n",
            "Accuracy of K-NN classifier on Source set: 0.85\n",
            "Accuracy of K-NN classifier on Target set: 0.73\n",
            "************************************************************\n",
            "Caltech10 vs Amazon \n",
            "\n",
            "/content/drive/MyDrive/ML/Data_Folder/surf/caltech10.mat\n",
            "/content/drive/MyDrive/ML/Data_Folder/surf/amazon.mat\n",
            "\n",
            "\n",
            "\n",
            "Accuracy of K-NN classifier on Source set: 0.47\n",
            "Accuracy of K-NN classifier on Target set: 0.29\n",
            " \t\t\t\t\t\tGooglenet1024                      \n",
            "************************************************************\n",
            "Webcam vs Dslr \n",
            "\n",
            "/content/drive/MyDrive/ML/Data_Folder/GoogleNet1024/webcam.mat\n",
            "/content/drive/MyDrive/ML/Data_Folder/GoogleNet1024/dslr.mat\n",
            "\n",
            "\n",
            "\n",
            "Accuracy of K-NN classifier on Source set: 0.94\n",
            "Accuracy of K-NN classifier on Target set: 0.96\n",
            "************************************************************\n",
            "Caltech10 vs Amazon \n",
            "\n",
            "/content/drive/MyDrive/ML/Data_Folder/GoogleNet1024/caltech10.mat\n",
            "/content/drive/MyDrive/ML/Data_Folder/GoogleNet1024/amazon.mat\n",
            "\n",
            "\n",
            "\n",
            "Accuracy of K-NN classifier on Source set: 0.91\n",
            "Accuracy of K-NN classifier on Target set: 0.95\n",
            " \t\t\t\t\t\tCaffenet4096                      \n",
            "************************************************************\n",
            "Webcam vs Dslr \n",
            "\n",
            "/content/drive/MyDrive/ML/Data_Folder/CaffeNet4096/webcam.mat\n",
            "/content/drive/MyDrive/ML/Data_Folder/CaffeNet4096/dslr.mat\n",
            "\n",
            "\n",
            "\n",
            "Accuracy of K-NN classifier on Source set: 0.95\n",
            "Accuracy of K-NN classifier on Target set: 0.99\n",
            "************************************************************\n",
            "Caltech10 vs Amazon \n",
            "\n",
            "/content/drive/MyDrive/ML/Data_Folder/CaffeNet4096/caltech10.mat\n",
            "/content/drive/MyDrive/ML/Data_Folder/CaffeNet4096/amazon.mat\n",
            "\n",
            "\n",
            "\n",
            "Accuracy of K-NN classifier on Source set: 0.84\n",
            "Accuracy of K-NN classifier on Target set: 0.89\n"
          ],
          "name": "stdout"
        }
      ]
    },
    {
      "cell_type": "code",
      "metadata": {
        "id": "QfcTNEK9Fsi3"
      },
      "source": [
        ""
      ],
      "execution_count": null,
      "outputs": []
    }
  ]
}