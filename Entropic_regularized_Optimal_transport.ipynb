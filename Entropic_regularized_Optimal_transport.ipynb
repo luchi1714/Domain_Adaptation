{
  "nbformat": 4,
  "nbformat_minor": 0,
  "metadata": {
    "colab": {
      "name": "Entropic regularized Optimal transport.ipynb",
      "provenance": [],
      "collapsed_sections": [],
      "toc_visible": true,
      "mount_file_id": "1RQO-vqaJcCW3RkvbTE_z5JBdinvkwUB-",
      "authorship_tag": "ABX9TyPF785WTEDFPCl+v0jOCmVY",
      "include_colab_link": true
    },
    "kernelspec": {
      "name": "python3",
      "display_name": "Python 3"
    }
  },
  "cells": [
    {
      "cell_type": "markdown",
      "metadata": {
        "id": "view-in-github",
        "colab_type": "text"
      },
      "source": [
        "<a href=\"https://colab.research.google.com/github/luchi1714/Domain_Adaptation/blob/main/Entropic_regularized_Optimal_transport.ipynb\" target=\"_parent\"><img src=\"https://colab.research.google.com/assets/colab-badge.svg\" alt=\"Open In Colab\"/></a>"
      ]
    },
    {
      "cell_type": "code",
      "metadata": {
        "id": "sdJiF7zdn0qP",
        "outputId": "abb1850b-8322-480b-a100-000c3284b230",
        "colab": {
          "base_uri": "https://localhost:8080/"
        }
      },
      "source": [
        "pip install Pot"
      ],
      "execution_count": 25,
      "outputs": [
        {
          "output_type": "stream",
          "text": [
            "Requirement already satisfied: Pot in /usr/local/lib/python3.6/dist-packages (0.7.0)\n",
            "Requirement already satisfied: numpy>=1.16 in /usr/local/lib/python3.6/dist-packages (from Pot) (1.18.5)\n",
            "Requirement already satisfied: cython>=0.23 in /usr/local/lib/python3.6/dist-packages (from Pot) (0.29.21)\n",
            "Requirement already satisfied: scipy>=1.0 in /usr/local/lib/python3.6/dist-packages (from Pot) (1.4.1)\n"
          ],
          "name": "stdout"
        }
      ]
    },
    {
      "cell_type": "markdown",
      "metadata": {
        "id": "Zm8Q7cejn3zu"
      },
      "source": [
        "## Entropic regularized Optimal transport"
      ]
    },
    {
      "cell_type": "code",
      "metadata": {
        "id": "n2F1w86qn9Sz"
      },
      "source": [
        "import scipy.io as sio\n",
        "from sklearn.preprocessing import StandardScaler\n",
        "from sklearn.decomposition import PCA\n",
        "import numpy as np\n",
        "from numpy import random\n",
        "import scipy\n",
        "from sklearn.preprocessing import normalize\n",
        "import  ot \n",
        "import time\n",
        "from sklearn.neighbors import KNeighborsClassifier\n"
      ],
      "execution_count": 24,
      "outputs": []
    },
    {
      "cell_type": "code",
      "metadata": {
        "id": "uavUFhvzoGjM"
      },
      "source": [
        "def Entropic_regularized_Optimal_transport(dataS,dataT, reg_e):\n",
        "    \n",
        "\n",
        "    S = dataS[\"fts\"]\n",
        "    T = dataT[\"fts\"]\n",
        "    Ls = dataS[\"labels\"].ravel()\n",
        "    Tl = dataT[\"labels\"].ravel()\n",
        "    \n",
        "    \n",
        "    scaler = StandardScaler()\n",
        "    S = scaler.fit_transform(S)\n",
        "    T = scaler.fit_transform(T)\n",
        "    \n",
        "    \n",
        "    \n",
        "    a = np.zeros((0,S.shape[0] ))\n",
        "    b = np.zeros((0,T.shape[0] ))\n",
        "    \n",
        "    M = scipy.spatial.distance.cdist(S, T)\n",
        "    M = normalize(M, norm = \"max\")\n",
        "    \n",
        "    G = ot.sinkhorn(a, b, M, reg= 1)\n",
        "    \n",
        "    Sa = np.dot(G,T)\n",
        "    nn = KNeighborsClassifier(n_neighbors=1).fit(Sa, Ls)\n",
        "    \n",
        "    #print(nn.predict(T))\n",
        "    \n",
        "    \n",
        "    \n",
        "    \n",
        "    #Checking performance on the source set\n",
        "    print('Accuracy of K-NN classifier on Source set: {:.2f}'.format(nn.score(S, Ls)))\n",
        "    start = time.time()\n",
        "    #Checking performance on the target set\n",
        "    print('Accuracy of K-NN classifier on Target set: {:.2f}'.format(nn.score(T, Tl)))\n",
        "    end = time.time()\n",
        "    print(\" Time : {}\".format(end-start))\n",
        "    "
      ],
      "execution_count": 21,
      "outputs": []
    },
    {
      "cell_type": "code",
      "metadata": {
        "id": "IbqUwYoUFoON"
      },
      "source": [
        " # Addition of Path \n",
        "folders = [\"surf\", \"GoogleNet1024\", \"CaffeNet4096\"]\n",
        "files = [\"webcam\", \"dslr\", \"caltech10\", \"amazon\"]\n",
        "\n",
        "directory_path = \"/content/drive/MyDrive/ML/Data_Folder\"\n"
      ],
      "execution_count": 22,
      "outputs": []
    },
    {
      "cell_type": "code",
      "metadata": {
        "id": "-nC90fD8oULL",
        "outputId": "c7a27cc4-f859-4399-ac0a-c1b42305b8d9",
        "colab": {
          "base_uri": "https://localhost:8080/"
        }
      },
      "source": [
        "for i in folders:\n",
        "    j = 0\n",
        "    print(\" \\t\\t\\t\\t{}                      \".format(i.capitalize()))\n",
        "    while(j < 3):\n",
        "        dataS = (directory_path+\"/{0}/{1}.mat\".format(i,files[j]))\n",
        "        j = j +1\n",
        "        dataT = (directory_path+\"/{0}/{1}.mat\".format(i,files[j]))\n",
        "        \n",
        "        \n",
        "        print(\"*\" *60)\n",
        "       \n",
        "        print(files[j-1].capitalize() +\" vs \"+files[j].capitalize()+ \" \\n\")\n",
        "        #print(dataS)\n",
        "        #print(dataT)\n",
        "        print(\"\\n\\n\")\n",
        "       \n",
        "        data_1 = sio.loadmat(\"{}\".format(dataS))\n",
        "        data_2 = sio.loadmat(\"{}\".format(dataT))\n",
        "        Entropic_regularized_Optimal_transport(data_1,data_2, 1)\n",
        "\n",
        "        #print(dataS + \"\\n\" + dataT +\"\\n\\n\")\n",
        "        j = j +1\n",
        "\n"
      ],
      "execution_count": 26,
      "outputs": [
        {
          "output_type": "stream",
          "text": [
            " \t\t\t\tSurf                      \n",
            "************************************************************\n",
            "Webcam vs Dslr \n",
            "\n",
            "\n",
            "\n",
            "\n",
            "Accuracy of K-NN classifier on Source set: 0.85\n",
            "Accuracy of K-NN classifier on Target set: 0.73\n",
            " Time : 0.06956052780151367\n",
            "************************************************************\n",
            "Caltech10 vs Amazon \n",
            "\n",
            "\n",
            "\n",
            "\n",
            "Accuracy of K-NN classifier on Source set: 0.47\n",
            "Accuracy of K-NN classifier on Target set: 0.29\n",
            " Time : 1.2560033798217773\n",
            " \t\t\t\tGooglenet1024                      \n",
            "************************************************************\n",
            "Webcam vs Dslr \n",
            "\n",
            "\n",
            "\n",
            "\n",
            "Accuracy of K-NN classifier on Source set: 0.94\n",
            "Accuracy of K-NN classifier on Target set: 0.96\n",
            " Time : 0.06204533576965332\n",
            "************************************************************\n",
            "Caltech10 vs Amazon \n",
            "\n",
            "\n",
            "\n",
            "\n",
            "Accuracy of K-NN classifier on Source set: 0.91\n",
            "Accuracy of K-NN classifier on Target set: 0.95\n",
            " Time : 0.809943437576294\n",
            " \t\t\t\tCaffenet4096                      \n",
            "************************************************************\n",
            "Webcam vs Dslr \n",
            "\n",
            "\n",
            "\n",
            "\n",
            "Accuracy of K-NN classifier on Source set: 0.95\n",
            "Accuracy of K-NN classifier on Target set: 0.99\n",
            " Time : 0.22714710235595703\n",
            "************************************************************\n",
            "Caltech10 vs Amazon \n",
            "\n",
            "\n",
            "\n",
            "\n",
            "Accuracy of K-NN classifier on Source set: 0.84\n",
            "Accuracy of K-NN classifier on Target set: 0.89\n",
            " Time : 3.894416093826294\n"
          ],
          "name": "stdout"
        }
      ]
    },
    {
      "cell_type": "code",
      "metadata": {
        "id": "QfcTNEK9Fsi3"
      },
      "source": [
        ""
      ],
      "execution_count": null,
      "outputs": []
    }
  ]
}