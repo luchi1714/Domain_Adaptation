{
  "nbformat": 4,
  "nbformat_minor": 0,
  "metadata": {
    "colab": {
      "name": "OTEx1.ipynb",
      "provenance": [],
      "toc_visible": true,
      "mount_file_id": "https://gist.github.com/luchi1714/adf940694a383cd07413869a1e2d94ae#file-otex1-ipynb",
      "authorship_tag": "ABX9TyOeh4O4n27Muq271gaCagCx",
      "include_colab_link": true
    },
    "kernelspec": {
      "name": "python3",
      "display_name": "Python 3"
    }
  },
  "cells": [
    {
      "cell_type": "markdown",
      "metadata": {
        "id": "view-in-github",
        "colab_type": "text"
      },
      "source": [
        "<a href=\"https://colab.research.google.com/github/luchi1714/Domain_Adaptation/blob/main/OTEx1.ipynb\" target=\"_parent\"><img src=\"https://colab.research.google.com/assets/colab-badge.svg\" alt=\"Open In Colab\"/></a>"
      ]
    },
    {
      "cell_type": "code",
      "metadata": {
        "id": "wL6rvRhHTFHq"
      },
      "source": [
        ""
      ],
      "execution_count": null,
      "outputs": []
    },
    {
      "cell_type": "markdown",
      "metadata": {
        "id": "SGafG_DdkVGY"
      },
      "source": [
        "#Subspace alignment \n"
      ]
    },
    {
      "cell_type": "code",
      "metadata": {
        "id": "J3zjNHSER5-p"
      },
      "source": [
        "import scipy.io as sio\n",
        "import timeit\n",
        "from sklearn.preprocessing import StandardScaler\n",
        "from sklearn.decomposition import PCA\n",
        "import numpy as np\n",
        "from sklearn import metrics\n",
        "from sklearn.neighbors import KNeighborsClassifier\n",
        "\n"
      ],
      "execution_count": 1,
      "outputs": []
    },
    {
      "cell_type": "code",
      "metadata": {
        "id": "rXaxdmAqSVYT"
      },
      "source": [
        "def subspace_alignment(dataS,dataT, pca_components):\n",
        "\"\"\"\n",
        "    dataS = source Data \n",
        "    dataT = Target Data \n",
        "    pca_components = number of components you want to extract from pca \n",
        "\"\"\"\n",
        "\n",
        "    pca_components = 100\n",
        "    S = dataS[\"fts\"].astype(float)\n",
        "    T = dataT[\"fts\"].astype(float)\n",
        "    Sl = dataS[\"labels\"].ravel()\n",
        "    Tl = dataT[\"labels\"].ravel()\n",
        "    \n",
        "    scaler = StandardScaler()\n",
        "    S = scaler.fit_transform(S)\n",
        "    T = scaler.fit_transform(T)\n",
        "     \n",
        "    \n",
        "    \n",
        "    # =============================================================================\n",
        "    # \n",
        "    #             Exercise 1 : Subspace alignment\n",
        "    # \n",
        "    # =============================================================================\n",
        "\n",
        "    # PCA Related stuff \n",
        "    pca = PCA(pca_components)\n",
        "    pca_Xs = pca.fit(S)\n",
        "    Xs =np.transpose(pca_Xs.components_)[:, :pca_components] #pca.components_\n",
        "    pca_Xt = pca.fit(T)\n",
        "    Xt = np.transpose(pca_Xt.components_)[:, :pca_components]\n",
        "     \n",
        "    \n",
        "    M = np.dot(Xs, Xs.T)\n",
        "    Xa = np.dot(M, Xt)\n",
        "    Sa = np.dot(S, Xa)\n",
        "    Ta = np.dot(T, Xt)\n",
        "    Sl = np.ravel(Sl)\n",
        "    nn = KNeighborsClassifier(n_neighbors=1).fit(Sa, Sl)\n",
        "    \n",
        "    \n",
        "    start = timeit.timeit()\n",
        "\n",
        "    predection  = nn.predict(Ta)\n",
        "     \n",
        "    #Checking performance with Subspace Alignment \n",
        "    print('Accuracy of subspace_alignment : {:.2f}'.format(metrics.accuracy_score(Tl, predection)))\n",
        "    end = timeit.timeit()\n",
        "    print(\" Time elapsed : {}\" .format(end - start))\n",
        "   \n",
        "   \n",
        "    #Checking performance on the with  knn \n",
        "    start = timeit.timeit()\n",
        "    nn = KNeighborsClassifier(n_neighbors=1).fit(S, Sl)\n",
        "    predection_nn  = nn.predict(T)\n",
        "    print('Accuracy of K-NN: {:.2f}'.format(metrics.accuracy_score(Tl,  predection_nn )))\n",
        "    end = timeit.timeit()\n",
        "    print(\" Time elapsed : {}\" .format( end - start))\n",
        "\n"
      ],
      "execution_count": 2,
      "outputs": []
    },
    {
      "cell_type": "code",
      "metadata": {
        "id": "mPBJnf8Az5RI"
      },
      "source": [
        " # Addition of Path \n",
        "folders = [\"surf\", \"GoogleNet1024\", \"CaffeNet4096\"]\n",
        "files = [\"webcam\", \"dslr\", \"caltech10\", \"amazon\"]\n",
        "\n",
        "directory_path = \"/content/drive/MyDrive/ML/Data_Folder\"\n"
      ],
      "execution_count": 3,
      "outputs": []
    },
    {
      "cell_type": "code",
      "metadata": {
        "id": "wFP6ijNZz81d",
        "outputId": "27073b9e-ce1d-45e7-84f5-40152fe7ab92",
        "colab": {
          "base_uri": "https://localhost:8080/"
        }
      },
      "source": [
        "\n",
        "for i in folders:\n",
        "    j = 0\n",
        "    print(\" \\t\\t\\t\\t{}                      \".format(i.capitalize()))\n",
        "    while(j < 3):\n",
        "        dataS = (directory_path+\"/{}/{}.mat\".format(i,files[j]))\n",
        "        j = j +1\n",
        "        dataT = (directory_path+\"/{}/{}.mat\".format(i,files[j]))\n",
        "        \n",
        "        \n",
        "        print(\"*\" *60)\n",
        "       \n",
        "        print(files[j-1].capitalize() +\" vs \"+files[j].capitalize()+ \" \\n\")\n",
        "       \n",
        "        data_1 = sio.loadmat(\"{}\".format(dataS))\n",
        "        data_2 = sio.loadmat(\"{}\".format(dataT))\n",
        "        subspace_alignment(data_1,data_2, 105)\n",
        "\n",
        "        #print(dataS + \"\\n\" + dataT +\"\\n\\n\")\n",
        "        j = j +1\n",
        "\n"
      ],
      "execution_count": 4,
      "outputs": [
        {
          "output_type": "stream",
          "text": [
            " \t\t\t\t\t\tSurf                      \n",
            "************************************************************\n",
            "Webcam vs Dslr \n",
            "\n",
            "Accuracy of subspace_alignment : 0.91\n",
            " Time elapsed : -0.00018390299999282433\n",
            "Accuracy of K-NN: 0.31\n",
            " Time elapsed : -0.0054008879999969395\n",
            "************************************************************\n",
            "Caltech10 vs Amazon \n",
            "\n",
            "Accuracy of subspace_alignment : 0.42\n",
            " Time elapsed : -0.00860881800002744\n",
            "Accuracy of K-NN: 0.18\n",
            " Time elapsed : 0.0004003640000860287\n",
            " \t\t\t\t\t\tGooglenet1024                      \n",
            "************************************************************\n",
            "Webcam vs Dslr \n",
            "\n",
            "Accuracy of subspace_alignment : 0.99\n",
            " Time elapsed : 0.0003291730000114512\n",
            "Accuracy of K-NN: 0.99\n",
            " Time elapsed : -0.008793447000073229\n",
            "************************************************************\n",
            "Caltech10 vs Amazon \n",
            "\n",
            "Accuracy of subspace_alignment : 0.92\n",
            " Time elapsed : -0.008287090999999691\n",
            "Accuracy of K-NN: 0.92\n",
            " Time elapsed : 0.00032386600003064814\n",
            " \t\t\t\t\t\tCaffenet4096                      \n",
            "************************************************************\n",
            "Webcam vs Dslr \n",
            "\n",
            "Accuracy of subspace_alignment : 1.00\n",
            " Time elapsed : -6.465000012667588e-06\n",
            "Accuracy of K-NN: 0.96\n",
            " Time elapsed : -0.007607912999958444\n",
            "************************************************************\n",
            "Caltech10 vs Amazon \n",
            "\n",
            "Accuracy of subspace_alignment : 0.88\n",
            " Time elapsed : -0.008393238999985897\n",
            "Accuracy of K-NN: 0.88\n",
            " Time elapsed : -0.00027055499998596133\n"
          ],
          "name": "stdout"
        }
      ]
    }
  ]
}