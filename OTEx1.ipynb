{
  "nbformat": 4,
  "nbformat_minor": 0,
  "metadata": {
    "colab": {
      "name": "OTEx1.ipynb",
      "provenance": [],
      "toc_visible": true,
      "mount_file_id": "https://gist.github.com/luchi1714/adf940694a383cd07413869a1e2d94ae#file-otex1-ipynb",
      "authorship_tag": "ABX9TyMTxdcY2zUrUtprbQdBiTUe",
      "include_colab_link": true
    },
    "kernelspec": {
      "name": "python3",
      "display_name": "Python 3"
    }
  },
  "cells": [
    {
      "cell_type": "markdown",
      "metadata": {
        "id": "view-in-github",
        "colab_type": "text"
      },
      "source": [
        "<a href=\"https://colab.research.google.com/github/luchi1714/Domain_Adaptation/blob/main/OTEx1.ipynb\" target=\"_parent\"><img src=\"https://colab.research.google.com/assets/colab-badge.svg\" alt=\"Open In Colab\"/></a>"
      ]
    },
    {
      "cell_type": "code",
      "metadata": {
        "id": "wL6rvRhHTFHq"
      },
      "source": [
        ""
      ],
      "execution_count": null,
      "outputs": []
    },
    {
      "cell_type": "markdown",
      "metadata": {
        "id": "SGafG_DdkVGY"
      },
      "source": [
        "#Subspace alignment \n"
      ]
    },
    {
      "cell_type": "code",
      "metadata": {
        "id": "J3zjNHSER5-p"
      },
      "source": [
        "import scipy.io as sio\n",
        "import time\n",
        "from sklearn.preprocessing import StandardScaler\n",
        "from sklearn.decomposition import PCA\n",
        "import numpy as np\n",
        "from sklearn import metrics\n",
        "from sklearn.neighbors import KNeighborsClassifier\n",
        "\n"
      ],
      "execution_count": 45,
      "outputs": []
    },
    {
      "cell_type": "code",
      "metadata": {
        "id": "rXaxdmAqSVYT"
      },
      "source": [
        "def subspace_alignment(dataS,dataT, pca_components):\n",
        "\n",
        "    # dataS = source Data \n",
        "    # dataT = Target Data \n",
        "    # pca_components = number of components you want to extract from pca \n",
        "\n",
        "    \n",
        "\n",
        "    \n",
        "    S = dataS[\"fts\"].astype(float)\n",
        "    T = dataT[\"fts\"].astype(float)\n",
        "    Sl = dataS[\"labels\"].ravel()\n",
        "    Tl = dataT[\"labels\"].ravel()\n",
        "    \n",
        "    scaler = StandardScaler()\n",
        "    S = scaler.fit_transform(S)\n",
        "    T = scaler.fit_transform(T)\n",
        "     \n",
        "    \n",
        "    \n",
        "    # =============================================================================\n",
        "    # \n",
        "    #             Exercise 1 : Subspace alignment\n",
        "    # \n",
        "    # =============================================================================\n",
        "\n",
        "    # PCA Related stuff \n",
        "    pca = PCA(pca_components)\n",
        "    pca_Xs = pca.fit(S)\n",
        "    Xs =np.transpose(pca_Xs.components_)#[:, :pca_components] \n",
        "    pca_Xt = pca.fit(T)\n",
        "    Xt = np.transpose(pca_Xt.components_)#[:, :pca_components]\n",
        "     \n",
        "    \n",
        "    M = np.dot(Xs, Xs.T)\n",
        "    Xa = np.dot(M, Xt)\n",
        "    Sa = np.dot(S, Xa)\n",
        "    Ta = np.dot(T, Xt)\n",
        "    Sl = np.ravel(Sl)\n",
        "    nn = KNeighborsClassifier(n_neighbors=1).fit(Sa, Sl)\n",
        "    \n",
        "    \n",
        "    start =time.time()\n",
        "\n",
        "    predection  = nn.predict(Ta)\n",
        "     \n",
        "    #Checking performance with Subspace Alignment \n",
        "    print('Accuracy of subspace_alignment : {:.2f}'.format(metrics.accuracy_score(Tl, predection)))\n",
        "    end = time.time()\n",
        "    print(\" Time elapsed : {}\" .format(end - start))\n",
        "   \n",
        "   \n",
        "    #Checking performance on the with  knn \n",
        "    start = time.time()\n",
        "    nn = KNeighborsClassifier(n_neighbors=1).fit(S, Sl)\n",
        "    predection_nn  = nn.predict(T)\n",
        "    print('Accuracy of K-NN: {:.2f}'.format(metrics.accuracy_score(Tl,  predection_nn )))\n",
        "    end = time.time()\n",
        "    print(\" Time elapsed : {}\" .format( end - start))\n",
        "\n"
      ],
      "execution_count": 46,
      "outputs": []
    },
    {
      "cell_type": "code",
      "metadata": {
        "id": "mPBJnf8Az5RI"
      },
      "source": [
        " # Addition of Path \n",
        "folders = [\"surf\", \"GoogleNet1024\", \"CaffeNet4096\"]\n",
        "files = [\"webcam\", \"dslr\", \"caltech10\", \"amazon\"]\n",
        "\n",
        "directory_path = \"/content/drive/MyDrive/ML/Data_Folder\"\n"
      ],
      "execution_count": 52,
      "outputs": []
    },
    {
      "cell_type": "code",
      "metadata": {
        "id": "wFP6ijNZz81d",
        "outputId": "d279dbcd-60a4-4b24-9b90-99e1c874c8b3",
        "colab": {
          "base_uri": "https://localhost:8080/"
        }
      },
      "source": [
        "for i in folders:\n",
        "    j = 0\n",
        "    print(\" \\t\\t\\t\\t\\t\\t{}                      \".format(i.capitalize()))\n",
        "    while(j < 3):\n",
        "        dataS = (directory_path+\"/{0}/{1}.mat\".format(i,files[j]))\n",
        "        j = j +1\n",
        "        dataT = (directory_path+\"/{0}/{1}.mat\".format(i,files[j]))\n",
        "        \n",
        "        \n",
        "        print(\"*\" *60)\n",
        "       \n",
        "        print(files[j-1].capitalize() +\" vs \"+files[j].capitalize()+ \" \\n\")\n",
        "        print(dataS)\n",
        "        print(dataT)\n",
        "        print(\"\\n\\n\")\n",
        "       \n",
        "        data_1 = sio.loadmat(\"{}\".format(dataS))\n",
        "        data_2 = sio.loadmat(\"{}\".format(dataT))\n",
        "        subspace_alignment(data_1,data_2, 105)\n",
        "\n",
        "        #print(dataS + \"\\n\" + dataT +\"\\n\\n\")\n",
        "        j = j +1\n",
        "\n"
      ],
      "execution_count": 56,
      "outputs": [
        {
          "output_type": "stream",
          "text": [
            " \t\t\t\t\t\tSurf                      \n",
            "************************************************************\n",
            "Webcam vs Dslr \n",
            "\n",
            "/content/drive/MyDrive/ML/Data_Folder/surf/webcam.mat\n",
            "/content/drive/MyDrive/ML/Data_Folder/surf/dslr.mat\n",
            "\n",
            "\n",
            "\n",
            "Accuracy of subspace_alignment : 0.90\n",
            " Time elapsed : 0.023242712020874023\n",
            "Accuracy of K-NN: 0.31\n",
            " Time elapsed : 0.13263297080993652\n",
            "************************************************************\n",
            "Caltech10 vs Amazon \n",
            "\n",
            "/content/drive/MyDrive/ML/Data_Folder/surf/caltech10.mat\n",
            "/content/drive/MyDrive/ML/Data_Folder/surf/amazon.mat\n",
            "\n",
            "\n",
            "\n",
            "Accuracy of subspace_alignment : 0.42\n",
            " Time elapsed : 0.31349992752075195\n",
            "Accuracy of K-NN: 0.18\n",
            " Time elapsed : 2.2964935302734375\n",
            " \t\t\t\t\t\tGooglenet1024                      \n",
            "************************************************************\n",
            "Webcam vs Dslr \n",
            "\n",
            "/content/drive/MyDrive/ML/Data_Folder/GoogleNet1024/webcam.mat\n",
            "/content/drive/MyDrive/ML/Data_Folder/GoogleNet1024/dslr.mat\n",
            "\n",
            "\n",
            "\n",
            "Accuracy of subspace_alignment : 0.99\n",
            " Time elapsed : 0.017736196517944336\n",
            "Accuracy of K-NN: 0.99\n",
            " Time elapsed : 0.15322613716125488\n",
            "************************************************************\n",
            "Caltech10 vs Amazon \n",
            "\n",
            "/content/drive/MyDrive/ML/Data_Folder/GoogleNet1024/caltech10.mat\n",
            "/content/drive/MyDrive/ML/Data_Folder/GoogleNet1024/amazon.mat\n",
            "\n",
            "\n",
            "\n",
            "Accuracy of subspace_alignment : 0.92\n",
            " Time elapsed : 0.21831750869750977\n",
            "Accuracy of K-NN: 0.92\n",
            " Time elapsed : 2.7539641857147217\n",
            " \t\t\t\t\t\tCaffenet4096                      \n",
            "************************************************************\n",
            "Webcam vs Dslr \n",
            "\n",
            "/content/drive/MyDrive/ML/Data_Folder/CaffeNet4096/webcam.mat\n",
            "/content/drive/MyDrive/ML/Data_Folder/CaffeNet4096/dslr.mat\n",
            "\n",
            "\n",
            "\n",
            "Accuracy of subspace_alignment : 1.00\n",
            " Time elapsed : 0.01845526695251465\n",
            "Accuracy of K-NN: 0.96\n",
            " Time elapsed : 0.6020116806030273\n",
            "************************************************************\n",
            "Caltech10 vs Amazon \n",
            "\n",
            "/content/drive/MyDrive/ML/Data_Folder/CaffeNet4096/caltech10.mat\n",
            "/content/drive/MyDrive/ML/Data_Folder/CaffeNet4096/amazon.mat\n",
            "\n",
            "\n",
            "\n",
            "Accuracy of subspace_alignment : 0.88\n",
            " Time elapsed : 0.24698829650878906\n",
            "Accuracy of K-NN: 0.88\n",
            " Time elapsed : 11.949267864227295\n"
          ],
          "name": "stdout"
        }
      ]
    },
    {
      "cell_type": "code",
      "metadata": {
        "id": "fErWIY459Dh2"
      },
      "source": [
        ""
      ],
      "execution_count": null,
      "outputs": []
    }
  ]
}